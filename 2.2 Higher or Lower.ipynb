{
 "cells": [
  {
   "cell_type": "markdown",
   "id": "847e72fe",
   "metadata": {},
   "source": [
    "### 1. 헤더 출력"
   ]
  },
  {
   "cell_type": "code",
   "execution_count": 1,
   "id": "c9ed2caf",
   "metadata": {},
   "outputs": [
    {
     "name": "stdout",
     "output_type": "stream",
     "text": [
      "************************\n",
      "* 2-2: Higher or Lower *\n",
      "*      2022.9.27       *\n",
      "*  (c) Kim, Tae-Hyong  *\n",
      "************************\n"
     ]
    }
   ],
   "source": [
    "from util import header\n",
    "\n",
    "header.print_header(\"2-2: Higher or Lower\", \"2022.9.27\", \"(c) Kim, Tae-Hyong\")"
   ]
  },
  {
   "cell_type": "markdown",
   "id": "d75980fe",
   "metadata": {},
   "source": [
    "### 2. 문제 분석"
   ]
  },
  {
   "cell_type": "markdown",
   "id": "e2bd9d2c",
   "metadata": {},
   "source": [
    "#### 게임 내용\n",
    "* 게임 규칙1\n",
    "  * 8장의 카드를 임의로 선택\n",
    "  * 첫 번째 카드를 앞면으로 뒤집어 보여주고 플레이어가 다음 선택된 카드의 숫자가 현재 카드의 숫자보다 클지 작을지를 예측\n",
    "  * 다음 카드를 앞면으로 뒤집어 예측 결과가 맞으면 20점을 획득하고 틀리면 15점을 뺏김 \n",
    "  * 만약 뒤집은 카드가 이전 카드와 숫자가 같으면 플레이어가 틀린 것으로 간주\n",
    "* 게임 규칙2\n",
    "  * 딜러와 플레이어가 각각 8장의 카드를 받음\n",
    "  * 플레이어는 받은 카드에서 1장을 선택하여 내놓고 자신의 카드의 숫자가 딜러의 카드의 숫자보다 크면 20점을 획득하고, 작으면 20점을 뺏김\n",
    "  * 만약 카드의 숫자가 동일하면, 스페이드 > 하트 > 다이아 > 클로버의 순서로 우열을 결정\n",
    "  * 딜러는 받은 순서대로 카드를 내 놓음\n",
    "\n",
    "#### 필요기능\n",
    "* 카드 한 벌(52장, deck) 생성\n",
    "  - 카드 1장: dictionary, 여러 장: 카드의 list \n",
    "* 카드 한 장 정의\n",
    "  - 'rank': 호칭 - 'Ace', 'Jack', 'Queen' 등\n",
    "  - 'suit': 종류 - 'Clubs', 'Spades' 등\n",
    "  - 'value': 값 - 1 ~ 13\n",
    "* 카드 섞기(shuffling)\n",
    "* 임의 장수 카드 가져오기\n",
    "\n",
    "#### 설정 변수 (전역 변수)\n",
    "* 카드 종류 tuple: SUIT_TUPLE\n",
    "* 카드 호칭 tuple: RANK_TUPLE\n",
    "* 가져올 카드 수: NCARDS\n",
    "* 초기 점수: INIT_SCORE"
   ]
  },
  {
   "cell_type": "markdown",
   "id": "223ba9ff",
   "metadata": {},
   "source": [
    "### 3. 전역 변수 및 카드 설계"
   ]
  },
  {
   "cell_type": "code",
   "execution_count": 2,
   "id": "937761bf",
   "metadata": {},
   "outputs": [],
   "source": [
    "NCARDS = 8\n",
    "INIT_SCORE = 50\n",
    "SUIT_TUPLE = ('Clubs', 'Diamonds', 'Hearts', 'Spades') # 값이 큰 순서대로 배치\n",
    "RANK_TUPLE = ('Ace', '2', '3', '4', '5', '6', '7', '8', '9', '10', 'Jack', 'Queen', 'King')"
   ]
  },
  {
   "cell_type": "code",
   "execution_count": 3,
   "id": "670895ec",
   "metadata": {},
   "outputs": [],
   "source": [
    "card1 = {'suit': 'Hearts', 'rank': 'Ace', 'value': 1}\n",
    "card2 = {'suit': 'Diamonds', 'rank': '7', 'value': 7}"
   ]
  },
  {
   "cell_type": "code",
   "execution_count": 4,
   "id": "4c10259f",
   "metadata": {},
   "outputs": [],
   "source": [
    "cardList = [card1, card2]"
   ]
  },
  {
   "cell_type": "markdown",
   "id": "f98d6fc4",
   "metadata": {},
   "source": [
    "### 4. 함수 설계"
   ]
  },
  {
   "cell_type": "code",
   "execution_count": 5,
   "id": "9d2b36c4",
   "metadata": {},
   "outputs": [],
   "source": [
    "def createDeck():\n",
    "    pass\n",
    "    return deck # deck: 카드 리스트"
   ]
  },
  {
   "cell_type": "code",
   "execution_count": 6,
   "id": "7014e243",
   "metadata": {},
   "outputs": [],
   "source": [
    "# 카드 뒤섞기\n",
    "def shuffleCards(deck): # deck: 현재 카드 리스트 \n",
    "    pass\n",
    "    return deck # 뒤섞은 카드 데크 반환  "
   ]
  },
  {
   "cell_type": "code",
   "execution_count": 7,
   "id": "8de2cb8f",
   "metadata": {},
   "outputs": [],
   "source": [
    "# 카드 1장 가져오기\n",
    "def getCard(deck): # deck: 현재 카드 리스트 \n",
    "    pass\n",
    "    return card # 카드 1장 반환"
   ]
  },
  {
   "cell_type": "code",
   "execution_count": 8,
   "id": "923d4af0",
   "metadata": {},
   "outputs": [],
   "source": [
    "# 임의 장수 카드 가져오기\n",
    "def getCards(deck, numCards): # deck: 현재 카드 리스트 \n",
    "    pass\n",
    "    return cardList # 카드 1장 반환"
   ]
  },
  {
   "cell_type": "code",
   "execution_count": 27,
   "id": "f3f73cdc",
   "metadata": {},
   "outputs": [],
   "source": [
    "# 카드 목록을 출력\n",
    "def printCardList(cardList): # cardList: 현재 카드 리스트 \n",
    "    pass"
   ]
  },
  {
   "cell_type": "code",
   "execution_count": 9,
   "id": "5721669c",
   "metadata": {},
   "outputs": [],
   "source": [
    "# 규칙 1번 게임\n",
    "def game1(score): # score: 현재 점수 \n",
    "    pass\n",
    "    return score # 게임 점수 반환 "
   ]
  },
  {
   "cell_type": "code",
   "execution_count": 10,
   "id": "3b900221",
   "metadata": {},
   "outputs": [],
   "source": [
    "# 규칙 2번 게임\n",
    "def game2(score): # score: 현재 점수 \n",
    "    pass\n",
    "    return score # 게임 점수 반환 "
   ]
  },
  {
   "cell_type": "markdown",
   "id": "5d1e305d",
   "metadata": {},
   "source": [
    "### 5. createDeck() 구현\n",
    "\n",
    "* deckList 변수에 52장의 카드 리스트 생성\n",
    "* rank와 value를 같이 부여하는 방법?"
   ]
  },
  {
   "cell_type": "code",
   "execution_count": 11,
   "id": "0c026b1a",
   "metadata": {},
   "outputs": [],
   "source": [
    "def createDeck():\n",
    "    deck = []\n",
    "    for suit in SUIT_TUPLE:\n",
    "        for value, rank in enumerate(RANK_TUPLE):\n",
    "            card = {'suit': suit, 'rank': rank, 'value': value+1}\n",
    "            deck.append(card)\n",
    "    return deck"
   ]
  },
  {
   "cell_type": "code",
   "execution_count": 12,
   "id": "59d4d23c",
   "metadata": {},
   "outputs": [
    {
     "data": {
      "text/plain": [
       "[{'suit': 'Clubs', 'rank': 'Ace', 'value': 1},\n",
       " {'suit': 'Clubs', 'rank': '2', 'value': 2},\n",
       " {'suit': 'Clubs', 'rank': '3', 'value': 3},\n",
       " {'suit': 'Clubs', 'rank': '4', 'value': 4},\n",
       " {'suit': 'Clubs', 'rank': '5', 'value': 5},\n",
       " {'suit': 'Clubs', 'rank': '6', 'value': 6},\n",
       " {'suit': 'Clubs', 'rank': '7', 'value': 7},\n",
       " {'suit': 'Clubs', 'rank': '8', 'value': 8},\n",
       " {'suit': 'Clubs', 'rank': '9', 'value': 9},\n",
       " {'suit': 'Clubs', 'rank': '10', 'value': 10},\n",
       " {'suit': 'Clubs', 'rank': 'Jack', 'value': 11},\n",
       " {'suit': 'Clubs', 'rank': 'Queen', 'value': 12},\n",
       " {'suit': 'Clubs', 'rank': 'King', 'value': 13},\n",
       " {'suit': 'Diamonds', 'rank': 'Ace', 'value': 1},\n",
       " {'suit': 'Diamonds', 'rank': '2', 'value': 2},\n",
       " {'suit': 'Diamonds', 'rank': '3', 'value': 3},\n",
       " {'suit': 'Diamonds', 'rank': '4', 'value': 4},\n",
       " {'suit': 'Diamonds', 'rank': '5', 'value': 5},\n",
       " {'suit': 'Diamonds', 'rank': '6', 'value': 6},\n",
       " {'suit': 'Diamonds', 'rank': '7', 'value': 7},\n",
       " {'suit': 'Diamonds', 'rank': '8', 'value': 8},\n",
       " {'suit': 'Diamonds', 'rank': '9', 'value': 9},\n",
       " {'suit': 'Diamonds', 'rank': '10', 'value': 10},\n",
       " {'suit': 'Diamonds', 'rank': 'Jack', 'value': 11},\n",
       " {'suit': 'Diamonds', 'rank': 'Queen', 'value': 12},\n",
       " {'suit': 'Diamonds', 'rank': 'King', 'value': 13},\n",
       " {'suit': 'Hearts', 'rank': 'Ace', 'value': 1},\n",
       " {'suit': 'Hearts', 'rank': '2', 'value': 2},\n",
       " {'suit': 'Hearts', 'rank': '3', 'value': 3},\n",
       " {'suit': 'Hearts', 'rank': '4', 'value': 4},\n",
       " {'suit': 'Hearts', 'rank': '5', 'value': 5},\n",
       " {'suit': 'Hearts', 'rank': '6', 'value': 6},\n",
       " {'suit': 'Hearts', 'rank': '7', 'value': 7},\n",
       " {'suit': 'Hearts', 'rank': '8', 'value': 8},\n",
       " {'suit': 'Hearts', 'rank': '9', 'value': 9},\n",
       " {'suit': 'Hearts', 'rank': '10', 'value': 10},\n",
       " {'suit': 'Hearts', 'rank': 'Jack', 'value': 11},\n",
       " {'suit': 'Hearts', 'rank': 'Queen', 'value': 12},\n",
       " {'suit': 'Hearts', 'rank': 'King', 'value': 13},\n",
       " {'suit': 'Spades', 'rank': 'Ace', 'value': 1},\n",
       " {'suit': 'Spades', 'rank': '2', 'value': 2},\n",
       " {'suit': 'Spades', 'rank': '3', 'value': 3},\n",
       " {'suit': 'Spades', 'rank': '4', 'value': 4},\n",
       " {'suit': 'Spades', 'rank': '5', 'value': 5},\n",
       " {'suit': 'Spades', 'rank': '6', 'value': 6},\n",
       " {'suit': 'Spades', 'rank': '7', 'value': 7},\n",
       " {'suit': 'Spades', 'rank': '8', 'value': 8},\n",
       " {'suit': 'Spades', 'rank': '9', 'value': 9},\n",
       " {'suit': 'Spades', 'rank': '10', 'value': 10},\n",
       " {'suit': 'Spades', 'rank': 'Jack', 'value': 11},\n",
       " {'suit': 'Spades', 'rank': 'Queen', 'value': 12},\n",
       " {'suit': 'Spades', 'rank': 'King', 'value': 13}]"
      ]
     },
     "execution_count": 12,
     "metadata": {},
     "output_type": "execute_result"
    }
   ],
   "source": [
    "deckList = createDeck()\n",
    "deckList"
   ]
  },
  {
   "cell_type": "markdown",
   "id": "5d098851",
   "metadata": {},
   "source": [
    "### 6. shuffleCards() 구현\n",
    "\n",
    "* random.shuffle() 활용"
   ]
  },
  {
   "cell_type": "code",
   "execution_count": 13,
   "id": "7a35671e",
   "metadata": {},
   "outputs": [],
   "source": [
    "import random\n",
    "\n",
    "def shuffleCards(deck):\n",
    "    random.shuffle(deck)\n",
    "    return deck "
   ]
  },
  {
   "cell_type": "code",
   "execution_count": 14,
   "id": "2fd33ecf",
   "metadata": {},
   "outputs": [
    {
     "data": {
      "text/plain": [
       "[{'suit': 'Clubs', 'rank': '10', 'value': 10},\n",
       " {'suit': 'Spades', 'rank': '9', 'value': 9},\n",
       " {'suit': 'Hearts', 'rank': '4', 'value': 4},\n",
       " {'suit': 'Clubs', 'rank': 'Jack', 'value': 11},\n",
       " {'suit': 'Spades', 'rank': '7', 'value': 7},\n",
       " {'suit': 'Hearts', 'rank': '7', 'value': 7},\n",
       " {'suit': 'Diamonds', 'rank': '8', 'value': 8},\n",
       " {'suit': 'Clubs', 'rank': 'Ace', 'value': 1},\n",
       " {'suit': 'Hearts', 'rank': '6', 'value': 6},\n",
       " {'suit': 'Spades', 'rank': '8', 'value': 8},\n",
       " {'suit': 'Diamonds', 'rank': '2', 'value': 2},\n",
       " {'suit': 'Hearts', 'rank': '9', 'value': 9},\n",
       " {'suit': 'Diamonds', 'rank': '9', 'value': 9},\n",
       " {'suit': 'Clubs', 'rank': '6', 'value': 6},\n",
       " {'suit': 'Spades', 'rank': '2', 'value': 2},\n",
       " {'suit': 'Clubs', 'rank': '7', 'value': 7},\n",
       " {'suit': 'Hearts', 'rank': '10', 'value': 10},\n",
       " {'suit': 'Spades', 'rank': '10', 'value': 10},\n",
       " {'suit': 'Clubs', 'rank': 'King', 'value': 13},\n",
       " {'suit': 'Spades', 'rank': '3', 'value': 3},\n",
       " {'suit': 'Diamonds', 'rank': '4', 'value': 4},\n",
       " {'suit': 'Spades', 'rank': 'Jack', 'value': 11},\n",
       " {'suit': 'Clubs', 'rank': '3', 'value': 3},\n",
       " {'suit': 'Diamonds', 'rank': '5', 'value': 5},\n",
       " {'suit': 'Clubs', 'rank': '4', 'value': 4},\n",
       " {'suit': 'Spades', 'rank': 'Queen', 'value': 12},\n",
       " {'suit': 'Hearts', 'rank': '5', 'value': 5},\n",
       " {'suit': 'Clubs', 'rank': '8', 'value': 8},\n",
       " {'suit': 'Hearts', 'rank': '8', 'value': 8},\n",
       " {'suit': 'Diamonds', 'rank': '3', 'value': 3},\n",
       " {'suit': 'Hearts', 'rank': 'Queen', 'value': 12},\n",
       " {'suit': 'Diamonds', 'rank': '7', 'value': 7},\n",
       " {'suit': 'Spades', 'rank': '4', 'value': 4},\n",
       " {'suit': 'Diamonds', 'rank': 'Queen', 'value': 12},\n",
       " {'suit': 'Hearts', 'rank': 'Ace', 'value': 1},\n",
       " {'suit': 'Diamonds', 'rank': 'King', 'value': 13},\n",
       " {'suit': 'Diamonds', 'rank': '10', 'value': 10},\n",
       " {'suit': 'Hearts', 'rank': 'King', 'value': 13},\n",
       " {'suit': 'Diamonds', 'rank': '6', 'value': 6},\n",
       " {'suit': 'Diamonds', 'rank': 'Ace', 'value': 1},\n",
       " {'suit': 'Hearts', 'rank': '3', 'value': 3},\n",
       " {'suit': 'Hearts', 'rank': 'Jack', 'value': 11},\n",
       " {'suit': 'Clubs', 'rank': '2', 'value': 2},\n",
       " {'suit': 'Spades', 'rank': '6', 'value': 6},\n",
       " {'suit': 'Spades', 'rank': 'King', 'value': 13},\n",
       " {'suit': 'Spades', 'rank': 'Ace', 'value': 1},\n",
       " {'suit': 'Hearts', 'rank': '2', 'value': 2},\n",
       " {'suit': 'Clubs', 'rank': '9', 'value': 9},\n",
       " {'suit': 'Clubs', 'rank': '5', 'value': 5},\n",
       " {'suit': 'Diamonds', 'rank': 'Jack', 'value': 11},\n",
       " {'suit': 'Clubs', 'rank': 'Queen', 'value': 12},\n",
       " {'suit': 'Spades', 'rank': '5', 'value': 5}]"
      ]
     },
     "execution_count": 14,
     "metadata": {},
     "output_type": "execute_result"
    }
   ],
   "source": [
    "deckList = shuffleCards(deckList)\n",
    "deckList "
   ]
  },
  {
   "cell_type": "markdown",
   "id": "c1d6588c",
   "metadata": {},
   "source": [
    "### 7. getCard() 구현\n",
    "\n",
    "* 맨 뒤에서 1장 가져오기, 가져온 카드는 deck에서 제거: pop 활용"
   ]
  },
  {
   "cell_type": "code",
   "execution_count": 15,
   "id": "27919831",
   "metadata": {},
   "outputs": [],
   "source": [
    "def getCard(deck):\n",
    "    card = deck.pop() # 맨 뒤에서 한장 제거\n",
    "    return card"
   ]
  },
  {
   "cell_type": "code",
   "execution_count": 16,
   "id": "bb497d2b",
   "metadata": {},
   "outputs": [
    {
     "data": {
      "text/plain": [
       "{'suit': 'Spades', 'rank': '5', 'value': 5}"
      ]
     },
     "execution_count": 16,
     "metadata": {},
     "output_type": "execute_result"
    }
   ],
   "source": [
    "myCard = getCard(deckList)\n",
    "myCard"
   ]
  },
  {
   "cell_type": "markdown",
   "id": "eb2f5945",
   "metadata": {},
   "source": [
    "### 8. getCards() 구현"
   ]
  },
  {
   "cell_type": "code",
   "execution_count": 17,
   "id": "124f87cf",
   "metadata": {},
   "outputs": [],
   "source": [
    "def getCards(deck, numCards):\n",
    "    cardList = []\n",
    "    for i in range(numCards):\n",
    "        card = deck.pop() # 맨 뒤에서 한장 제거\n",
    "        cardList.append(card)\n",
    "    return cardList"
   ]
  },
  {
   "cell_type": "code",
   "execution_count": 18,
   "id": "13e3d61a",
   "metadata": {},
   "outputs": [
    {
     "data": {
      "text/plain": [
       "[{'suit': 'Clubs', 'rank': 'Queen', 'value': 12},\n",
       " {'suit': 'Diamonds', 'rank': 'Jack', 'value': 11},\n",
       " {'suit': 'Clubs', 'rank': '5', 'value': 5},\n",
       " {'suit': 'Clubs', 'rank': '9', 'value': 9},\n",
       " {'suit': 'Hearts', 'rank': '2', 'value': 2}]"
      ]
     },
     "execution_count": 18,
     "metadata": {},
     "output_type": "execute_result"
    }
   ],
   "source": [
    "myCardList = getCards(deckList, 5)\n",
    "myCardList"
   ]
  },
  {
   "cell_type": "markdown",
   "id": "edfc4478",
   "metadata": {},
   "source": [
    "### 9. printCardList() 구현"
   ]
  },
  {
   "cell_type": "code",
   "execution_count": 30,
   "id": "a5649465",
   "metadata": {},
   "outputs": [],
   "source": [
    "# 카드 목록을 출력\n",
    "def printCardList(cardList):\n",
    "    for i in range(len(cardList)):\n",
    "        print(f\"{i+1}. {cardList[i]['suit']} {cardList[i]['rank']}\")"
   ]
  },
  {
   "cell_type": "code",
   "execution_count": 31,
   "id": "7a6bff27",
   "metadata": {},
   "outputs": [
    {
     "name": "stdout",
     "output_type": "stream",
     "text": [
      "1. Clubs Queen\n",
      "2. Diamonds Jack\n",
      "3. Clubs 5\n",
      "4. Clubs 9\n",
      "5. Hearts 2\n"
     ]
    }
   ],
   "source": [
    "printCardList(myCardList)"
   ]
  },
  {
   "cell_type": "markdown",
   "id": "c4ef8134",
   "metadata": {},
   "source": [
    "### 11. game1() 구현"
   ]
  },
  {
   "cell_type": "code",
   "execution_count": 35,
   "id": "2d8a0bc6",
   "metadata": {},
   "outputs": [],
   "source": [
    "import time\n",
    "\n",
    "def game1(score):\n",
    "\n",
    "    print(\">>> Higher or Lower 게임(1)을 시작합니다.\")\n",
    "    print(f\">>> 현재 점수는 {score}점입니다.\")\n",
    "\n",
    "    deck = createDeck()\n",
    "    print(\">>> 카드를 섞습니다.\")\n",
    "    deck = shuffleCards(deck)\n",
    "    time.sleep(1)\n",
    "\n",
    "    print(f\">>> {NCARDS}장의 카드를 받습니다.\")\n",
    "    myCardList = getCards(deck, NCARDS)\n",
    "    time.sleep(1)\n",
    "\n",
    "    curCard = myCardList.pop()\n",
    "    print(f\">>> 첫번째 카드는 {curCard['suit']}, {curCard['rank']}입니다.\")\n",
    "    \n",
    "    for i in range(NCARDS-1):\n",
    "        while True:\n",
    "            choice = input(\"다음 카드 숫자가 더 클지('h'), 작을지('l') 맞춰보세요: \")\n",
    "            if choice in \"hHlL\":\n",
    "                choice = choice.lower()\n",
    "                break\n",
    "            else:\n",
    "                print(\">>> [ERROR] 'h' 또는 'l' 중 하나를 입력하세요!!!\")    \n",
    "                \n",
    "        chStr = 'lower' if choice == 'l' else 'higher'         \n",
    "        print(f\">>> 당신은 {chStr}를 선택했습니다.\")\n",
    "        print(f\">>> 이제 다음 카드를 확인합니다.\")\n",
    "        time.sleep(1)\n",
    "\n",
    "        nextCard = myCardList.pop()\n",
    "        print(f\">>> 다음 카드는 {nextCard['suit']}, {nextCard['rank']}입니다.\")\n",
    "        \n",
    "        if (choice == 'l' and nextCard['value'] < curCard['value']) or \\\n",
    "           (choice == 'h' and nextCard['value'] > curCard['value']):\n",
    "            print(\">>> 당신의 예측이 맞았습니다! 20점을 획득합니다.\")\n",
    "            score += 20\n",
    "        else:\n",
    "            print(\">>> 당신의 예측이 틀렸습니다! 15점을 잃습니다.\")\n",
    "            score -= 15\n",
    "            \n",
    "        curCard = nextCard\n",
    "    \n",
    "        if i < NCARDS-2:    \n",
    "            print(f\">>> 당신의 현재 점수는 {score}점입니다.\")  \n",
    "            time.sleep(1)    \n",
    "        else:\n",
    "            print(f\">>> 게임이 끝났습니다. 당신의 최종 점수는 {score}점입니다.\")  \n",
    "            \n",
    "    return score"
   ]
  },
  {
   "cell_type": "code",
   "execution_count": 26,
   "id": "662d2dfe",
   "metadata": {},
   "outputs": [
    {
     "name": "stdout",
     "output_type": "stream",
     "text": [
      ">>> Higher or Lower 게임(1)을 시작합니다.\n",
      ">>> 현재 점수는 50점입니다.\n",
      ">>> 카드를 섞습니다.\n",
      ">>> 8장의 카드를 받습니다.\n",
      ">>> 첫번째 카드는 Diamonds, 4입니다.\n",
      "다음 카드 숫자가 더 클지('h'), 작을지('l') 맞춰보세요: h\n",
      ">>> 당신은 higher를 선택했습니다.\n",
      ">>> 이제 다음 카드를 확인합니다.\n",
      ">>> 다음 카드는 Diamonds, 7입니다.\n",
      ">>> 당신의 예측이 맞았습니다! 20점을 획득합니다.\n",
      ">>> 당신의 현재 점수는 70점입니다.\n",
      "다음 카드 숫자가 더 클지('h'), 작을지('l') 맞춰보세요: l\n",
      ">>> 당신은 lower를 선택했습니다.\n",
      ">>> 이제 다음 카드를 확인합니다.\n",
      ">>> 다음 카드는 Diamonds, 10입니다.\n",
      ">>> 당신의 예측이 틀렸습니다! 15점을 잃습니다.\n",
      ">>> 당신의 현재 점수는 55점입니다.\n",
      "다음 카드 숫자가 더 클지('h'), 작을지('l') 맞춰보세요: l\n",
      ">>> 당신은 lower를 선택했습니다.\n",
      ">>> 이제 다음 카드를 확인합니다.\n",
      ">>> 다음 카드는 Diamonds, 3입니다.\n",
      ">>> 당신의 예측이 맞았습니다! 20점을 획득합니다.\n",
      ">>> 당신의 현재 점수는 75점입니다.\n",
      "다음 카드 숫자가 더 클지('h'), 작을지('l') 맞춰보세요: h\n",
      ">>> 당신은 higher를 선택했습니다.\n",
      ">>> 이제 다음 카드를 확인합니다.\n",
      ">>> 다음 카드는 Hearts, 10입니다.\n",
      ">>> 당신의 예측이 맞았습니다! 20점을 획득합니다.\n",
      ">>> 당신의 현재 점수는 95점입니다.\n",
      "다음 카드 숫자가 더 클지('h'), 작을지('l') 맞춰보세요: l\n",
      ">>> 당신은 lower를 선택했습니다.\n",
      ">>> 이제 다음 카드를 확인합니다.\n",
      ">>> 다음 카드는 Spades, 3입니다.\n",
      ">>> 당신의 예측이 맞았습니다! 20점을 획득합니다.\n",
      ">>> 당신의 현재 점수는 115점입니다.\n",
      "다음 카드 숫자가 더 클지('h'), 작을지('l') 맞춰보세요: h\n",
      ">>> 당신은 higher를 선택했습니다.\n",
      ">>> 이제 다음 카드를 확인합니다.\n",
      ">>> 다음 카드는 Clubs, 4입니다.\n",
      ">>> 당신의 예측이 맞았습니다! 20점을 획득합니다.\n",
      ">>> 당신의 현재 점수는 135점입니다.\n",
      "다음 카드 숫자가 더 클지('h'), 작을지('l') 맞춰보세요: h\n",
      ">>> 당신은 higher를 선택했습니다.\n",
      ">>> 이제 다음 카드를 확인합니다.\n",
      ">>> 다음 카드는 Spades, 7입니다.\n",
      ">>> 당신의 예측이 맞았습니다! 20점을 획득합니다.\n",
      ">>> 당신의 현재 점수는 155점입니다.\n"
     ]
    }
   ],
   "source": [
    "score = game1(INIT_SCORE)"
   ]
  },
  {
   "cell_type": "markdown",
   "id": "58b28131",
   "metadata": {},
   "source": [
    "### 12. game2() 구현"
   ]
  },
  {
   "cell_type": "code",
   "execution_count": 44,
   "id": "00bf01ef",
   "metadata": {},
   "outputs": [],
   "source": [
    "import time\n",
    "\n",
    "def game2(score):\n",
    "\n",
    "    print(\">>> Higher or Lower 게임(2)을 시작합니다.\")\n",
    "    print(f\">>> 현재 점수는 {score}점입니다.\")\n",
    "\n",
    "    deck = createDeck()\n",
    "    print(\">>> 카드를 섞습니다.\")\n",
    "    deck = shuffleCards(deck)\n",
    "    time.sleep(1)\n",
    "\n",
    "    print(f\">>> 당신에게 {NCARDS}장의 카드를 나누어줍니다.\")\n",
    "    myCardList = getCards(deck, NCARDS)\n",
    "    time.sleep(1)\n",
    "\n",
    "    print(f\">>> 딜러에게 {NCARDS}장의 카드를 나누어줍니다.\")\n",
    "    dealerCardList = getCards(deck, NCARDS)\n",
    "    time.sleep(1)\n",
    "        \n",
    "    for i in range(NCARDS):\n",
    "\n",
    "        print(\">>> 당신의 현재 카드는 다음과 같습니다.\")\n",
    "        printCardList(myCardList)\n",
    "        \n",
    "        while True:\n",
    "            \n",
    "            if len(myCardList) >= 2:\n",
    "                choice = input(\"선택할 카드 번호를 입력하세요: \")\n",
    "                if str(1) <= choice <= str(len(myCardList)) :\n",
    "                    choice = int(choice)\n",
    "                    break\n",
    "                else:\n",
    "                    print(\">>> [ERROR] 목록의 번호를 정확히 입력하세요!!!\")  \n",
    "            else:\n",
    "                choice = 1\n",
    "                break\n",
    "                    \n",
    "        myCard = myCardList.pop(choice-1)\n",
    "        print(f\">>> 당신의 카드는 {myCard['suit']}, {myCard['rank']}입니다.\")\n",
    "                    \n",
    "        dealerCard = dealerCardList.pop()\n",
    "        print(f\">>> 딜러의 카드는 {dealerCard['suit']}, {dealerCard['rank']}입니다.\")\n",
    "                \n",
    "        time.sleep(1)\n",
    "        \n",
    "        if myCard['value'] > dealerCard['value']:\n",
    "            print(\">>> 당신의 카드 숫자가 딜러의 카드 숫자보다 큽니다! 20점을 획득합니다.\")\n",
    "            score += 20\n",
    "        elif myCard['value'] < dealerCard['value']:\n",
    "            print(\">>> 당신의 카드 숫자가 딜러의 카드 숫자보다 작습니다! 20점을 잃습니다.\")\n",
    "            score -= 20\n",
    "        elif SUIT_TUPLE.index(myCard['suit']) > SUIT_TUPLE.index(dealerCard['suit']):\n",
    "            print(\">>> 당신과 딜러의 카드 숫자가 같지만 당신 카드가 suit에서 앞섭니다! 20점을 획득합니다.\")\n",
    "            score += 20\n",
    "        else:\n",
    "            print(\">>> 당신과 딜러의 카드 숫자가 같지만 당신 카드가 suit에서 뒤집니다! 20점을 잃습니다.\")\n",
    "            score -= 20\n",
    "    \n",
    "        if i < NCARDS-1:    \n",
    "            print(f\">>> 당신의 현재 점수는 {score}점입니다.\")  \n",
    "            time.sleep(1)    \n",
    "        else:\n",
    "            print(f\">>> 게임이 끝났습니다. 당신의 최종 점수는 {score}점입니다.\")  \n",
    "            \n",
    "    return score"
   ]
  },
  {
   "cell_type": "code",
   "execution_count": 45,
   "id": "9b29a649",
   "metadata": {},
   "outputs": [
    {
     "name": "stdout",
     "output_type": "stream",
     "text": [
      ">>> Higher or Lower 게임(2)을 시작합니다.\n",
      ">>> 현재 점수는 50점입니다.\n",
      ">>> 카드를 섞습니다.\n",
      ">>> 당신에게 8장의 카드를 나누어줍니다.\n",
      ">>> 딜러에게 8장의 카드를 나누어줍니다.\n",
      ">>> 당신의 현재 카드는 다음과 같습니다.\n",
      "1. Clubs 4\n",
      "2. Spades 7\n",
      "3. Clubs 8\n",
      "4. Diamonds Ace\n",
      "5. Hearts 8\n",
      "6. Diamonds Jack\n",
      "7. Diamonds Queen\n",
      "8. Clubs Jack\n",
      "선택할 카드 번호를 입력하세요: 1\n",
      ">>> 당신의 카드는 Clubs, 4입니다.\n",
      ">>> 딜러의 카드는 Hearts, 5입니다.\n",
      ">>> 당신의 카드 숫자가 딜러의 카드 숫자보다 작습니다! 20점을 잃습니다.\n",
      ">>> 당신의 현재 점수는 30점입니다.\n",
      ">>> 당신의 현재 카드는 다음과 같습니다.\n",
      "1. Spades 7\n",
      "2. Clubs 8\n",
      "3. Diamonds Ace\n",
      "4. Hearts 8\n",
      "5. Diamonds Jack\n",
      "6. Diamonds Queen\n",
      "7. Clubs Jack\n",
      "선택할 카드 번호를 입력하세요: 1\n",
      ">>> 당신의 카드는 Spades, 7입니다.\n",
      ">>> 딜러의 카드는 Spades, Queen입니다.\n",
      ">>> 당신의 카드 숫자가 딜러의 카드 숫자보다 작습니다! 20점을 잃습니다.\n",
      ">>> 당신의 현재 점수는 10점입니다.\n",
      ">>> 당신의 현재 카드는 다음과 같습니다.\n",
      "1. Clubs 8\n",
      "2. Diamonds Ace\n",
      "3. Hearts 8\n",
      "4. Diamonds Jack\n",
      "5. Diamonds Queen\n",
      "6. Clubs Jack\n",
      "선택할 카드 번호를 입력하세요: 1\n",
      ">>> 당신의 카드는 Clubs, 8입니다.\n",
      ">>> 딜러의 카드는 Diamonds, 4입니다.\n",
      ">>> 당신의 카드 숫자가 딜러의 카드 숫자보다 큽니다! 20점을 획득합니다.\n",
      ">>> 당신의 현재 점수는 30점입니다.\n",
      ">>> 당신의 현재 카드는 다음과 같습니다.\n",
      "1. Diamonds Ace\n",
      "2. Hearts 8\n",
      "3. Diamonds Jack\n",
      "4. Diamonds Queen\n",
      "5. Clubs Jack\n",
      "선택할 카드 번호를 입력하세요: 1\n",
      ">>> 당신의 카드는 Diamonds, Ace입니다.\n",
      ">>> 딜러의 카드는 Hearts, 4입니다.\n",
      ">>> 당신의 카드 숫자가 딜러의 카드 숫자보다 작습니다! 20점을 잃습니다.\n",
      ">>> 당신의 현재 점수는 10점입니다.\n",
      ">>> 당신의 현재 카드는 다음과 같습니다.\n",
      "1. Hearts 8\n",
      "2. Diamonds Jack\n",
      "3. Diamonds Queen\n",
      "4. Clubs Jack\n",
      "선택할 카드 번호를 입력하세요: 1\n",
      ">>> 당신의 카드는 Hearts, 8입니다.\n",
      ">>> 딜러의 카드는 Spades, 9입니다.\n",
      ">>> 당신의 카드 숫자가 딜러의 카드 숫자보다 작습니다! 20점을 잃습니다.\n",
      ">>> 당신의 현재 점수는 -10점입니다.\n",
      ">>> 당신의 현재 카드는 다음과 같습니다.\n",
      "1. Diamonds Jack\n",
      "2. Diamonds Queen\n",
      "3. Clubs Jack\n",
      "선택할 카드 번호를 입력하세요: 1\n",
      ">>> 당신의 카드는 Diamonds, Jack입니다.\n",
      ">>> 딜러의 카드는 Spades, Jack입니다.\n",
      ">>> 당신과 딜러의 카드 숫자가 같지만 당신 카드가 suit에서 뒤집니다! 20점을 잃습니다.\n",
      ">>> 당신의 현재 점수는 -30점입니다.\n",
      ">>> 당신의 현재 카드는 다음과 같습니다.\n",
      "1. Diamonds Queen\n",
      "2. Clubs Jack\n",
      "선택할 카드 번호를 입력하세요: 1\n",
      ">>> 당신의 카드는 Diamonds, Queen입니다.\n",
      ">>> 딜러의 카드는 Clubs, 2입니다.\n",
      ">>> 당신의 카드 숫자가 딜러의 카드 숫자보다 큽니다! 20점을 획득합니다.\n",
      ">>> 당신의 현재 점수는 -10점입니다.\n",
      ">>> 당신의 현재 카드는 다음과 같습니다.\n",
      "1. Clubs Jack\n",
      ">>> 당신의 카드는 Clubs, Jack입니다.\n",
      ">>> 딜러의 카드는 Diamonds, 8입니다.\n",
      ">>> 당신의 카드 숫자가 딜러의 카드 숫자보다 큽니다! 20점을 획득합니다.\n",
      ">>> 게임이 끝났습니다. 당신의 최종 점수는 10점입니다.\n"
     ]
    }
   ],
   "source": [
    "score = game2(INIT_SCORE)"
   ]
  },
  {
   "cell_type": "markdown",
   "id": "7cbc2053",
   "metadata": {},
   "source": [
    "### 13. main() 함수 구현\n",
    "\n",
    "* 게임 선택 및 점수 관리\n",
    "* 게임 종료 처리"
   ]
  },
  {
   "cell_type": "markdown",
   "id": "0f1b601a",
   "metadata": {},
   "source": [
    "### 14. 전체 프로그램"
   ]
  },
  {
   "cell_type": "code",
   "execution_count": null,
   "id": "f056fdcc",
   "metadata": {},
   "outputs": [],
   "source": []
  }
 ],
 "metadata": {
  "kernelspec": {
   "display_name": "Python 3.10.7 64-bit",
   "language": "python",
   "name": "python3"
  },
  "language_info": {
   "codemirror_mode": {
    "name": "ipython",
    "version": 3
   },
   "file_extension": ".py",
   "mimetype": "text/x-python",
   "name": "python",
   "nbconvert_exporter": "python",
   "pygments_lexer": "ipython3",
   "version": "3.10.7"
  },
  "varInspector": {
   "cols": {
    "lenName": 16,
    "lenType": 16,
    "lenVar": 40
   },
   "kernels_config": {
    "python": {
     "delete_cmd_postfix": "",
     "delete_cmd_prefix": "del ",
     "library": "var_list.py",
     "varRefreshCmd": "print(var_dic_list())"
    },
    "r": {
     "delete_cmd_postfix": ") ",
     "delete_cmd_prefix": "rm(",
     "library": "var_list.r",
     "varRefreshCmd": "cat(var_dic_list()) "
    }
   },
   "types_to_exclude": [
    "module",
    "function",
    "builtin_function_or_method",
    "instance",
    "_Feature"
   ],
   "window_display": false
  },
  "vscode": {
   "interpreter": {
    "hash": "202f3d25457d4af54f374f478444260a0c470bfbaacff9a95b0592da5de7b057"
   }
  }
 },
 "nbformat": 4,
 "nbformat_minor": 5
}
